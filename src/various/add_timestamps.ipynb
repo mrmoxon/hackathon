{
 "cells": [
  {
   "cell_type": "code",
   "execution_count": 17,
   "metadata": {},
   "outputs": [],
   "source": [
    "import streamlit as st\n",
    "import pandas as pd\n",
    "import plotly.graph_objs as go\n",
    "import openai\n",
    "import pdf2image\n",
    "from PIL import Image\n",
    "from streamlit_option_menu import option_menu\n",
    "from scipy.spatial.distance import cosine\n",
    "from dotenv import load_dotenv"
   ]
  },
  {
   "cell_type": "code",
   "execution_count": 18,
   "metadata": {},
   "outputs": [
    {
     "ename": "ImportError",
     "evalue": "cannot import name 'extract_text' from 'pdfminer.high_level' (/Users/oscarmoxon/.pyenv/versions/3.12.2/lib/python3.12/site-packages/pdfminer/high_level.py)",
     "output_type": "error",
     "traceback": [
      "\u001b[0;31m---------------------------------------------------------------------------\u001b[0m",
      "\u001b[0;31mImportError\u001b[0m                               Traceback (most recent call last)",
      "Cell \u001b[0;32mIn[18], line 2\u001b[0m\n\u001b[1;32m      1\u001b[0m \u001b[38;5;28;01mfrom\u001b[39;00m \u001b[38;5;21;01mpdf2image\u001b[39;00m \u001b[38;5;28;01mimport\u001b[39;00m convert_from_path\n\u001b[0;32m----> 2\u001b[0m \u001b[38;5;28;01mfrom\u001b[39;00m \u001b[38;5;21;01mpdfminer\u001b[39;00m\u001b[38;5;21;01m.\u001b[39;00m\u001b[38;5;21;01mhigh_level\u001b[39;00m \u001b[38;5;28;01mimport\u001b[39;00m extract_text\n",
      "\u001b[0;31mImportError\u001b[0m: cannot import name 'extract_text' from 'pdfminer.high_level' (/Users/oscarmoxon/.pyenv/versions/3.12.2/lib/python3.12/site-packages/pdfminer/high_level.py)"
     ]
    }
   ],
   "source": [
    "from pdf2image import convert_from_path\n",
    "from pdfminer.high_level import extract_text"
   ]
  },
  {
   "cell_type": "code",
   "execution_count": 24,
   "metadata": {},
   "outputs": [],
   "source": [
    "# for file in /Users/oscarmoxon/Desktop/AI Projects/hackathon/MiDAS/data_files/BURNS \n",
    "# add date as the filename along with the topic\n",
    "\n",
    "# Dates: 17-04-2024, 16-04-2024, 15-04-2024\n",
    "# Topics: Business-and-Trade, Export-Controls, Trade-Agreements, Education, Environment, Health\n",
    "# Hashes: 10x, 11x, 12x, 13x\n",
    "\n",
    "import os\n",
    "import hashlib\n",
    "import datetime\n",
    "from itertools import product"
   ]
  },
  {
   "cell_type": "code",
   "execution_count": 25,
   "metadata": {},
   "outputs": [],
   "source": [
    "def hash_file(filepath):\n",
    "    \"\"\"Generate a SHA-256 hash for a file.\"\"\"\n",
    "    sha256_hash = hashlib.sha256()\n",
    "    with open(filepath, \"rb\") as f:\n",
    "        # Read and update hash in chunks of 4K\n",
    "        for byte_block in iter(lambda: f.read(4096), b\"\"):\n",
    "            sha256_hash.update(byte_block)\n",
    "    return sha256_hash.hexdigest()[:3]  # return only the first 3 characters for brevity\n",
    "\n",
    "def rename_files(base_path):\n",
    "    dates = [\"2024-04-12\", \"2024-04-10\", \"2024-04-11\"]\n",
    "    topics = [\"Business-and-Trade\", \"Crime-and-Justice\", \"Defence\", \"Education\", \"Environment\", \"Health\", \"Home Office\", \"International-Development\", \"International-Relations\", \"Local-Government\", \"Science-and-Technology\", \"Transport\", \"Work-and-Pensions\"]\n",
    "    minister = [\"10x\", \"11x\", \"12x\", \"13x\"]\n",
    "    \n",
    "    # Create all combinations of dates and topics\n",
    "    combinations = list(product(dates, topics))\n",
    "    \n",
    "    # Check if there are enough combinations for all files\n",
    "    files = [f for f in os.listdir(base_path) if f.endswith('.PNG')]\n",
    "    if len(files) > len(combinations):\n",
    "        raise ValueError(\"Not enough date-topic combinations for the number of files\")\n",
    "\n",
    "    # Process each file\n",
    "    for file, (date, topic) in zip(sorted(files), combinations):\n",
    "        filepath = os.path.join(base_path, file)\n",
    "        file_hash = hash_file(filepath)\n",
    "        new_filename = f\"{date}_{topic}_{file_hash}.png\"\n",
    "        new_filepath = os.path.join(base_path, new_filename)\n",
    "        \n",
    "        # Rename the file\n",
    "        os.rename(filepath, new_filepath)\n",
    "        print(f\"Renamed {file} to {new_filename}\")"
   ]
  },
  {
   "cell_type": "code",
   "execution_count": 26,
   "metadata": {},
   "outputs": [],
   "source": [
    "# Define the directory containing the files\n",
    "base_directory = \"/Users/oscarmoxon/Desktop/AI Projects/hackathon/data_files/PURSGLOVE\"\n",
    "rename_files(base_directory)"
   ]
  }
 ],
 "metadata": {
  "kernelspec": {
   "display_name": "Python 3",
   "language": "python",
   "name": "python3"
  },
  "language_info": {
   "codemirror_mode": {
    "name": "ipython",
    "version": 3
   },
   "file_extension": ".py",
   "mimetype": "text/x-python",
   "name": "python",
   "nbconvert_exporter": "python",
   "pygments_lexer": "ipython3",
   "version": "3.11.2"
  }
 },
 "nbformat": 4,
 "nbformat_minor": 2
}
